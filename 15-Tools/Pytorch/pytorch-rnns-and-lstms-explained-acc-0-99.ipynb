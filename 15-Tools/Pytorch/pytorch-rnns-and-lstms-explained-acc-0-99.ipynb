{
 "cells": [
  {
   "cell_type": "markdown",
   "metadata": {},
   "source": [
    "<img src='https://i.imgur.com/lCuxDSV.png'>\n",
    "\n",
    "# 1. Introduction 📜\n",
    "\n",
    "This notebook is just me being frustrated on **deep learning** and trying to understand in \"baby steps\" what is going on here. For somebody that starts in this area with no background whatsoever it can be very confusing, especially because I seem to be unable to find code with many explanations and comments.\n",
    "\n",
    "So, if you are frustrated just like I was when I started this stuff I hope the following guidelines will help you. I am by no means a teacher, but in this notebook I will:\n",
    "1. Share articles/videos I watched that TRULY helped\n",
    "2. Explain code along the way to the best of my ability\n",
    "\n",
    "<div class=\"alert alert-block alert-warning\"> \n",
    "<strong>Note</strong>: Deep learning coding is VERY different in structure than the usual <em>sklearn</em> for machine learning. In addition, it usually works with <em>images</em> and <em>text</em>, while <em>ML</em> usually works with <em>tabular</em> data. So please, be patient with yourself and if you don't understand something right away, continue reading/ coding and it will all make sense in the end.\n",
    "</div>\n",
    "\n",
    "<img src='https://i.imgur.com/yXdmIr5.png' width=500>\n",
    "\n",
    "# 2. Before we start 📝\n",
    "\n",
    "> This is my third notebook in the \"series\": **How I taught myself Deep Learning**.\n",
    "1. **[How I taught myself Deep Learning: Vanilla NNs](https://www.kaggle.com/andradaolteanu/how-i-taught-myself-deep-learning-1-pytorch-fnn)**\n",
    "        * PyTorch and Tensors\n",
    "        * Neural Network Basics, Perceptrons and a Plain Vanilla Neural Net model\n",
    "        * MNIST Classification using FNN\n",
    "        * Activation Functions\n",
    "        * Forward Pass\n",
    "        * Backpropagation (Loss and Optimizer Functions)\n",
    "        * Batching, Iterations and Epochs\n",
    "        * Computing Classification Accuracy\n",
    "        * Overfitting: Data Augmentation, Weight Decay, Learning Rate, Dropout() and Layer Optimization   \n",
    "2. **[Convolutional Neural Nets (CNNs) Explained](https://www.kaggle.com/andradaolteanu/convolutional-neural-nets-cnns-explained)**\n",
    "        * Why ConvNets\n",
    "        * Convolutions Explained\n",
    "        * Computing Activation Maps\n",
    "        * Kernels, Padding, Stride\n",
    "        * AlexNet\n",
    "        * MNIST Classification using Convolutions"
   ]
  },
  {
   "cell_type": "code",
   "execution_count": 1,
   "metadata": {},
   "outputs": [
    {
     "name": "stdout",
     "output_type": "stream",
     "text": [
      "Device available now: cpu\n"
     ]
    }
   ],
   "source": [
    "# Imports\n",
    "import torch\n",
    "import torch.nn as nn\n",
    "import torch.nn.functional as F\n",
    "import torch.optim as optim\n",
    "import os\n",
    "import numpy as np\n",
    "\n",
    "import torchvision\n",
    "import torchvision.transforms as transforms\n",
    "\n",
    "import matplotlib.pyplot as plt\n",
    "%matplotlib inline\n",
    "import sklearn.metrics\n",
    "import seaborn as sns\n",
    "import random\n",
    "\n",
    "# To display youtube videos\n",
    "from IPython.display import YouTubeVideo\n",
    "\n",
    "\n",
    "def set_seed(seed = 1234):\n",
    "    '''Sets the seed of the entire notebook so results are the same every time we run.\n",
    "    This is for REPRODUCIBILITY.'''\n",
    "    np.random.seed(seed)\n",
    "    random.seed(seed)\n",
    "    torch.manual_seed(seed)\n",
    "    torch.cuda.manual_seed(seed)\n",
    "    # When running on the CuDNN backend, two further options must be set\n",
    "    torch.backends.cudnn.deterministic = True\n",
    "    # Set a fixed value for the hash seed\n",
    "    os.environ['PYTHONHASHSEED'] = str(seed)\n",
    "    \n",
    "set_seed()\n",
    "\n",
    "device = torch.device('cuda' if torch.cuda.is_available() else 'cpu')\n",
    "print('Device available now:', device)"
   ]
  },
  {
   "cell_type": "markdown",
   "metadata": {},
   "source": [
    "# 3. RNN with 1 Layer 📘\n",
    "Recurrent Neural Networks are very different from [FNNs](https://www.kaggle.com/andradaolteanu/how-i-taught-myself-deep-learning-vanilla-nns) or [CNNs](https://www.kaggle.com/andradaolteanu/how-i-taught-myself-deep-learning-convnet-cnns). \n",
    "\n",
    "RNNs model **sequential data**, meaning they have **sequential memory**. An RNN takes in different kind of inputs (text, words, letters, parts of an image, sounds, etc.) and returns different kinds of outputs (the next word/letter in the sequence, paired with an FNN it can return a classification etc.).\n",
    "\n",
    "<img src=\"https://i.imgur.com/RW41Wqj.png\" width=\"600\">\n",
    "\n",
    "**How RNN works**:\n",
    "1. It uses previous information to affect later ones\n",
    "2. There are 3 layers: *Input*, *Output* and *Hidden* (where the information is stored)\n",
    "3. The loop: passes the input forward sequentialy, while *retaining information* about it\n",
    "4. This info is stored in the *hidden state*\n",
    "5. There are only 3 matrixes (U, V, W) that contain weights as parameters. These *DON'T change* with the input, they stay the same through the entire sequence."
   ]
  },
  {
   "cell_type": "markdown",
   "metadata": {},
   "source": [
    "## 3.1 Youtube Videos to Save you Time 🎥\n",
    "I *highly recommend* watching the following to better understand RNNs.\n",
    "\n",
    "<div class=\"alert alert-block alert-info\">\n",
    "<img src='https://i.imgur.com/H6AnLaj.png' width='70' align='left'></img>\n",
    "<p><a href='https://www.youtube.com/watch?v=LHXXI4-IEns'>Ilustrated Guide to Recurrent Neural Networks: Understanding the Intuition</a></p>\n",
    "<p>From Michael Phi</p>\n",
    "</div>"
   ]
  },
  {
   "cell_type": "code",
   "execution_count": 2,
   "metadata": {
    "_kg_hide-input": true
   },
   "outputs": [
    {
     "data": {
      "image/jpeg": "[encoded data removed]",
      "text/html": [
       "\n",
       "        <iframe\n",
       "            width=\"500\"\n",
       "            height=\"200\"\n",
       "            src=\"https://www.youtube.com/embed/LHXXI4-IEns\"\n",
       "            frameborder=\"0\"\n",
       "            allowfullscreen\n",
       "        ></iframe>\n",
       "        "
      ],
      "text/plain": [
       "<IPython.lib.display.YouTubeVideo at 0x7f03f6725a90>"
      ]
     },
     "execution_count": 2,
     "metadata": {},
     "output_type": "execute_result"
    }
   ],
   "source": [
    "YouTubeVideo(\"LHXXI4-IEns\", width=500, height=200)"
   ]
  },
  {
   "cell_type": "markdown",
   "metadata": {},
   "source": [
    "## 3.2 RNN with 1 Layer and 1 Neuron (🎇)\n",
    "You can always increase the number of neurons in an RNN. For the moment we'll stick with 1. We'll have 2 timesteps, 0 and 1. The Architecture of our `class` will look like the figure below:\n",
    "\n",
    "<img src='https://i.imgur.com/Nxa3XzS.png' width='400'>\n",
    "\n",
    "* `torch.mm()` - matrix multiplication"
   ]
  },
  {
   "cell_type": "code",
   "execution_count": 3,
   "metadata": {},
   "outputs": [
    {
     "name": "stdout",
     "output_type": "stream",
     "text": [
      "input time_0 shape: torch.Size([4, 4])\n",
      "input time_1 shape: torch.Size([4, 4])\n"
     ]
    }
   ],
   "source": [
    "# ==== STATICS ====\n",
    "n_inputs = 4\n",
    "n_neurons = 1\n",
    "# =================\n",
    "\n",
    "# RNN inputs\n",
    "input0 = torch.tensor([[0, 1, 2, 0], [3, 4, 5, 0], [6, 7, 8, 0], [9, 0, 1, 0]], dtype = torch.float)\n",
    "print('input time_0 shape:', input0.shape)\n",
    "\n",
    "input1 = torch.tensor([[9, 8, 7, 0], [3, 4, 5, 0], [6, 7, 8, 0], [9, 0, 1, 0]], dtype = torch.float)\n",
    "print('input time_1 shape:', input1.shape)"
   ]
  },
  {
   "cell_type": "code",
   "execution_count": 4,
   "metadata": {},
   "outputs": [],
   "source": [
    "# The Neural Network\n",
    "class RNNVanilla(nn.Module):\n",
    "    # __init__: the function where we create the architecture\n",
    "    def __init__(self, n_inputs, n_neurons):\n",
    "        super(RNNVanilla, self).__init__()\n",
    "        \n",
    "        # Weights are random at first\n",
    "        # U contains connection weights for the inputs of the current time step\n",
    "        self.U = torch.randn(n_inputs, n_neurons) # for 1 neuron: size = 4 rows and 1 column\n",
    "        \n",
    "        # W contains connection weights for the outputs of the previous time step\n",
    "        self.W = torch.randn(n_neurons, n_neurons) # for 1 neuron: size = 1 row and 1 column\n",
    "        \n",
    "        # The bias\n",
    "        self.b = torch.zeros(1, n_neurons) # for 1 neuron: size = 1 row and 1 column\n",
    "    \n",
    "    # forward: function where we apply the architecture to the input\n",
    "    def forward(self, input0, input1):\n",
    "        # Computes two outputs, one for each time step (two overall).\n",
    "        self.output0 = torch.tanh(torch.mm(input0, self.U) + self.b)\n",
    "        \n",
    "        self.output1 = torch.tanh(torch.mm(self.output0, self.W) + torch.mm(input1, self.U) + self.b)\n",
    "        \n",
    "        return self.output0, self.output1"
   ]
  },
  {
   "cell_type": "code",
   "execution_count": 5,
   "metadata": {
    "_cell_guid": "79c7e3d0-c299-4dcb-8224-4455121ee9b0",
    "_uuid": "d629ff2d2480ee46fbb7e2d37f6b5fab8052498a"
   },
   "outputs": [
    {
     "name": "stdout",
     "output_type": "stream",
     "text": [
      "output0: tensor([[-0.9247],\n",
      "        [-0.9973],\n",
      "        [-0.9999],\n",
      "        [-0.5345]]) \n",
      "\n",
      "output1: tensor([[-0.9937],\n",
      "        [-0.9910],\n",
      "        [-0.9997],\n",
      "        [-0.2628]])\n"
     ]
    }
   ],
   "source": [
    "# Creating the model\n",
    "rnn_1_neuron = RNNVanilla(n_inputs, n_neurons)\n",
    "\n",
    "# Checking the output\n",
    "output0, output1 = rnn_1_neuron(input0, input1)\n",
    "print('output0:', output0, '\\n')\n",
    "print('output1:', output1)"
   ]
  },
  {
   "cell_type": "code",
   "execution_count": 6,
   "metadata": {},
   "outputs": [
    {
     "name": "stdout",
     "output_type": "stream",
     "text": [
      "U: tensor([[ 0.0461],\n",
      "        [ 0.4024],\n",
      "        [-1.0115],\n",
      "        [ 0.2167]])\n",
      "W: tensor([[-0.6123]])\n",
      "bias: tensor([[0.]])\n"
     ]
    }
   ],
   "source": [
    "# Parameters\n",
    "print('U:', rnn_1_neuron.U)\n",
    "print('W:', rnn_1_neuron.W)\n",
    "print('bias:', rnn_1_neuron.b)"
   ]
  },
  {
   "cell_type": "markdown",
   "metadata": {},
   "source": [
    "## 3.3 RNN with 1 Layer and Multiple Neurons (🎇🎇🎇)\n",
    "\n",
    "**Difference vs RNN 1 neuron 1 layer:**\n",
    "* size of output changes (because size of `n_neurons` changes)\n",
    "* size of the bias changes (it's the size of `n_neurons`) and `W` matrix\n",
    "    \n",
    "<img src='https://i.imgur.com/QV9nCUY.png' width='400'>"
   ]
  },
  {
   "cell_type": "code",
   "execution_count": 7,
   "metadata": {},
   "outputs": [
    {
     "name": "stdout",
     "output_type": "stream",
     "text": [
      "input time_0 shape: torch.Size([4, 3])\n",
      "input time_1 shape: torch.Size([4, 3])\n"
     ]
    }
   ],
   "source": [
    "# ==== STATICS ====\n",
    "n_inputs = 3\n",
    "n_neurons = 5\n",
    "# =================\n",
    "\n",
    "# RNN inputs\n",
    "input0 = torch.tensor([[0, 1, 2], [3, 4, 5], [6, 7, 8], [9, 0, 1]], dtype = torch.float)\n",
    "print('input time_0 shape:', input0.shape)\n",
    "\n",
    "input1 = torch.tensor([[9, 8, 7], [0, 0, 0], [6, 5, 4], [3, 2, 1]], dtype = torch.float)\n",
    "print('input time_1 shape:', input1.shape)"
   ]
  },
  {
   "cell_type": "code",
   "execution_count": 8,
   "metadata": {},
   "outputs": [
    {
     "name": "stdout",
     "output_type": "stream",
     "text": [
      "output0: tensor([[ 0.9538, -0.6534,  0.7879, -0.8832, -0.9953],\n",
      "        [ 1.0000, -0.9287,  0.9998, -1.0000, -0.8423],\n",
      "        [ 1.0000, -0.9870,  1.0000, -1.0000,  0.5144],\n",
      "        [ 1.0000,  0.9486,  1.0000, -0.9840,  1.0000]]) \n",
      "\n",
      "output1: tensor([[ 1.0000, -0.9795,  1.0000, -1.0000,  1.0000],\n",
      "        [-0.4268, -0.6269,  0.9398,  0.9575, -0.9623],\n",
      "        [ 1.0000, -0.9559,  1.0000, -1.0000,  0.9999],\n",
      "        [ 0.9991,  0.5718,  0.9485, -0.9160,  0.9999]])\n"
     ]
    }
   ],
   "source": [
    "# Creating the model\n",
    "rnn_n_neurons = RNNVanilla(n_inputs, n_neurons)\n",
    "\n",
    "# Checking the output\n",
    "output0, output1 = rnn_n_neurons(input0, input1)\n",
    "print('output0:', output0, '\\n')\n",
    "print('output1:', output1)"
   ]
  },
  {
   "cell_type": "code",
   "execution_count": 9,
   "metadata": {},
   "outputs": [
    {
     "name": "stdout",
     "output_type": "stream",
     "text": [
      "U: tensor([[ 0.5036,  0.2310,  0.6931, -0.2669,  2.1785],\n",
      "        [ 0.1021, -0.2590, -0.1549, -1.3706, -0.1319],\n",
      "        [ 0.8848, -0.2611,  0.6104, -0.0098, -1.4473]])\n",
      "W: tensor([[ 0.7667,  0.0190,  0.0220,  1.1532, -0.3393],\n",
      "        [ 0.1559,  0.8966, -0.2968, -0.6857,  0.9247],\n",
      "        [ 0.1825, -0.0737,  0.3147, -1.0369,  0.2100],\n",
      "        [ 0.6144, -0.0552, -0.3297, -1.7970,  0.8728],\n",
      "        [ 0.7670, -0.1138, -0.9428,  0.7540,  0.1365]])\n",
      "bias: tensor([[0., 0., 0., 0., 0.]])\n"
     ]
    }
   ],
   "source": [
    "# Parameters\n",
    "print('U:', rnn_n_neurons.U)\n",
    "print('W:', rnn_n_neurons.W)\n",
    "print('bias:', rnn_n_neurons.b)"
   ]
  },
  {
   "cell_type": "markdown",
   "metadata": {},
   "source": [
    "## 3.4 Vanilla RNN for MNIST Classification 🔢\n",
    "\n",
    "From now on we'll use the build in `nn.RNN()` from `PyTorch`. As you see, the previous examples can't support large inputs and outputs, as we would have to input the information at every timestep and output the results.\n",
    "\n",
    "Note: When using RNN in image classification, it is hard to find the logic of \"why\" exactly are we doing this. It is not like CNNs, when we know we put many \"filters\" on the image to extract the essence. I observed that when using RNNs is just another mathematical method in which the computer learns numbers and can therefore identify patterns.\n",
    "\n",
    "This is why RNNs might be weird in the approach for image classification, but nevertheless very effective.\n",
    "\n",
    "<div class=\"alert alert-block alert-info\">\n",
    "RNN is a very powerful neural net. As you'll see, it's performance is far grater than a normal FNN or CNN\n",
    "</div>\n",
    "\n",
    "> Side Note: Images used as input NEED to have 1 channel (so need to be B&W)\n",
    "\n",
    "### 3.4.1 Import the Data 📥\n",
    "\n",
    "> Note: to further augmentations on the data, check [albumentations for PyTorch](https://albumentations.readthedocs.io/en/latest/api/augmentations.html)"
   ]
  },
  {
   "cell_type": "code",
   "execution_count": 10,
   "metadata": {
    "_kg_hide-output": true
   },
   "outputs": [
    {
     "name": "stdout",
     "output_type": "stream",
     "text": [
      "Downloading http://yann.lecun.com/exdb/mnist/train-images-idx3-ubyte.gz to data/MNIST/raw/train-images-idx3-ubyte.gz\n"
     ]
    },
    {
     "data": {
      "application/vnd.jupyter.widget-view+json": {
       "model_id": "9fe72ee3ceb74cb3b5892856d091dc6d",
       "version_major": 2,
       "version_minor": 0
      },
      "text/plain": [
       "HBox(children=(FloatProgress(value=1.0, bar_style='info', max=1.0), HTML(value='')))"
      ]
     },
     "metadata": {},
     "output_type": "display_data"
    },
    {
     "name": "stdout",
     "output_type": "stream",
     "text": [
      "Extracting data/MNIST/raw/train-images-idx3-ubyte.gz to data/MNIST/raw\n",
      "Downloading http://yann.lecun.com/exdb/mnist/train-labels-idx1-ubyte.gz to data/MNIST/raw/train-labels-idx1-ubyte.gz\n"
     ]
    },
    {
     "data": {
      "application/vnd.jupyter.widget-view+json": {
       "model_id": "518530bc0af349e78847bc0f0b401724",
       "version_major": 2,
       "version_minor": 0
      },
      "text/plain": [
       "HBox(children=(FloatProgress(value=1.0, bar_style='info', max=1.0), HTML(value='')))"
      ]
     },
     "metadata": {},
     "output_type": "display_data"
    },
    {
     "name": "stdout",
     "output_type": "stream",
     "text": [
      "Extracting data/MNIST/raw/train-labels-idx1-ubyte.gz to data/MNIST/raw\n",
      "Downloading http://yann.lecun.com/exdb/mnist/t10k-images-idx3-ubyte.gz to data/MNIST/raw/t10k-images-idx3-ubyte.gz\n"
     ]
    },
    {
     "data": {
      "application/vnd.jupyter.widget-view+json": {
       "model_id": "fff70da8dafe4af4a02fa7e03b4d0233",
       "version_major": 2,
       "version_minor": 0
      },
      "text/plain": [
       "HBox(children=(FloatProgress(value=1.0, bar_style='info', max=1.0), HTML(value='')))"
      ]
     },
     "metadata": {},
     "output_type": "display_data"
    },
    {
     "name": "stdout",
     "output_type": "stream",
     "text": [
      "Extracting data/MNIST/raw/t10k-images-idx3-ubyte.gz to data/MNIST/raw\n",
      "Downloading http://yann.lecun.com/exdb/mnist/t10k-labels-idx1-ubyte.gz to data/MNIST/raw/t10k-labels-idx1-ubyte.gz\n"
     ]
    },
    {
     "data": {
      "application/vnd.jupyter.widget-view+json": {
       "model_id": "fc318fb5888d4853bc6691c72b13cac5",
       "version_major": 2,
       "version_minor": 0
      },
      "text/plain": [
       "HBox(children=(FloatProgress(value=1.0, bar_style='info', max=1.0), HTML(value='')))"
      ]
     },
     "metadata": {},
     "output_type": "display_data"
    },
    {
     "name": "stdout",
     "output_type": "stream",
     "text": [
      "Extracting data/MNIST/raw/t10k-labels-idx1-ubyte.gz to data/MNIST/raw\n",
      "Processing...\n",
      "Done!\n",
      "\n",
      "\n",
      "\n"
     ]
    }
   ],
   "source": [
    "# Customized transform (transforms to tensor, here you can normalize, perform Data Augmentation etc.)\n",
    "my_transform = transforms.Compose([transforms.ToTensor()])\n",
    "\n",
    "# Download data\n",
    "mnist_train = torchvision.datasets.MNIST('data', train = True, download=True, transform=my_transform)\n",
    "mnist_test = torchvision.datasets.MNIST('data', train = False, download=True, transform=my_transform)"
   ]
  },
  {
   "cell_type": "markdown",
   "metadata": {},
   "source": [
    "### 3.4.2 RNN Architecture for MNIST Classification 🪓\n",
    "> Note: Don't bother with the prints, they are there for later only to understand what's happening inside the network.\n",
    "\n",
    "<div class=\"alert alert-block alert-info\">\n",
    "<p>Pro Tip: Use <c>print()</c> a lot if you don't understand what is happening (helps you visualize)</p>\n",
    "</div>"
   ]
  },
  {
   "cell_type": "code",
   "execution_count": 11,
   "metadata": {
    "_kg_hide-output": true
   },
   "outputs": [],
   "source": [
    "# The Neural Network\n",
    "class VanillaRNN_MNIST(nn.Module):\n",
    "    def __init__(self, batch_size, input_size, hidden_size, output_size):\n",
    "        super(VanillaRNN_MNIST, self).__init__()\n",
    "        self.batch_size, self.input_size, self.hidden_size, self.output_size = batch_size, input_size, hidden_size, output_size\n",
    "        \n",
    "        # RNN Layer\n",
    "        self.rnn = nn.RNN(input_size, hidden_size)\n",
    "        # Fully Connected Layer\n",
    "        self.layer = nn.Linear(hidden_size, self.output_size)\n",
    "    \n",
    "    def forward(self, images, prints=False):\n",
    "        if prints: print('Original Images Shape:', images.shape)\n",
    "        \n",
    "        images = images.permute(1, 0, 2)\n",
    "        if prints: print('Permuted Imaged Shape:', images.shape)\n",
    "        \n",
    "        # Initialize hidden state with zeros\n",
    "        hidden_state = torch.zeros(1, self.batch_size, self.hidden_size)\n",
    "        if prints: print('Initial hidden state Shape:', hidden_state.shape)\n",
    "        \n",
    "        # Creating RNN\n",
    "        hidden_outputs, hidden_state = self.rnn(images, hidden_state)\n",
    "        \n",
    "        # Log probabilities\n",
    "        out = self.layer(hidden_state)\n",
    "        \n",
    "        if prints:\n",
    "            print('----hidden_outputs shape:', hidden_outputs.shape, '\\n' +\n",
    "                  '----final hidden state:', hidden_state.shape, '\\n' +\n",
    "                  '----out shape:', out.shape)\n",
    "        \n",
    "        # Reshaped out\n",
    "        out = out.view(-1, self.output_size)\n",
    "        if prints: print('Out Final Shape:', out.shape)\n",
    "        \n",
    "        return out"
   ]
  },
  {
   "cell_type": "markdown",
   "metadata": {},
   "source": [
    "### Understanding the Model:\n",
    "\n",
    "> Here is what's happening to the batch below:\n",
    "<img src='https://i.imgur.com/U5bzlIS.png' width=500>"
   ]
  },
  {
   "cell_type": "code",
   "execution_count": 12,
   "metadata": {},
   "outputs": [],
   "source": [
    "# ==== STATICS ====\n",
    "batch_size = 64        # how many images to be trained in one iteration\n",
    "input_size = 28        # image 28 by 28\n",
    "hidden_size = 150      # can be changed to any number: neurons\n",
    "output_size = 10       # 10 different digits\n",
    "# ================="
   ]
  },
  {
   "cell_type": "code",
   "execution_count": 13,
   "metadata": {},
   "outputs": [
    {
     "name": "stdout",
     "output_type": "stream",
     "text": [
      "original images shape: torch.Size([64, 1, 28, 28])\n",
      "changed images shape: torch.Size([64, 28, 28])\n",
      "labels shape: torch.Size([64]) \n",
      "\n",
      "Original Images Shape: torch.Size([64, 28, 28])\n",
      "Permuted Imaged Shape: torch.Size([28, 64, 28])\n",
      "Initial hidden state Shape: torch.Size([1, 64, 150])\n",
      "----hidden_outputs shape: torch.Size([28, 64, 150]) \n",
      "----final hidden state: torch.Size([1, 64, 150]) \n",
      "----out shape: torch.Size([1, 64, 10])\n",
      "Out Final Shape: torch.Size([64, 10])\n"
     ]
    }
   ],
   "source": [
    "# Create a train_loader to select a batch from it\n",
    "train_loader = torch.utils.data.DataLoader(mnist_train, batch_size=64)\n",
    "\n",
    "# Select one full batch from the data\n",
    "images_example, labels_example = next(iter(train_loader))\n",
    "print('original images shape:', images_example.shape)\n",
    "\n",
    "# Reshape\n",
    "images_example = images_example.view(-1, 28, 28)\n",
    "print('changed images shape:', images_example.shape)\n",
    "print('labels shape:', labels_example.shape, '\\n')\n",
    "\n",
    "# Creating the model\n",
    "model_example = VanillaRNN_MNIST(batch_size, input_size, hidden_size, output_size)\n",
    "\n",
    "\n",
    "out = model_example(images_example, prints=True)"
   ]
  },
  {
   "cell_type": "markdown",
   "metadata": {},
   "source": [
    "> If we unfold the RNN:\n",
    "<img src='https://i.imgur.com/lmv7fNA.png' width=500>"
   ]
  },
  {
   "cell_type": "code",
   "execution_count": 14,
   "metadata": {},
   "outputs": [
    {
     "name": "stdout",
     "output_type": "stream",
     "text": [
      "Len parameters: 6 \n",
      "Parameters 0 - U: torch.Size([150, 28]) \n",
      "Parameters 1 - W: torch.Size([150, 150]) \n",
      "Parameters 2 - Bias: torch.Size([150]) \n",
      "Parameters 3 - Bias: torch.Size([150]) \n",
      "Parameters 4 - FNN weights: torch.Size([10, 150]) \n",
      "Parameters 5 - Predictions: torch.Size([10])\n"
     ]
    }
   ],
   "source": [
    "# Understand Model Parameters\n",
    "print('Len parameters:', len(list(model_example.parameters())), '\\n' +\n",
    "      'Parameters 0 - U:', list(model_example.parameters())[0].shape, '\\n' +\n",
    "      'Parameters 1 - W:', list(model_example.parameters())[1].shape, '\\n' +\n",
    "      'Parameters 2 - Bias:', list(model_example.parameters())[2].shape, '\\n' +\n",
    "      'Parameters 3 - Bias:', list(model_example.parameters())[3].shape, '\\n' +\n",
    "      'Parameters 4 - FNN weights:', list(model_example.parameters())[4].shape, '\\n' +\n",
    "      'Parameters 5 - Predictions:', list(model_example.parameters())[5].shape)"
   ]
  },
  {
   "cell_type": "markdown",
   "metadata": {},
   "source": [
    "### 3.4.3 Training... 🚀\n",
    "\n",
    "> We'll use `get_accuracy()` and `train_network()` functions from my [previous notebook](https://www.kaggle.com/andradaolteanu/how-i-taught-myself-deep-learning-vanilla-nns), but with some changes (suited to the RNN's needs)."
   ]
  },
  {
   "cell_type": "code",
   "execution_count": 15,
   "metadata": {},
   "outputs": [],
   "source": [
    "def get_accuracy(out, actual_labels, batchSize):\n",
    "    '''Saves the Accuracy of the batch.\n",
    "    Takes in the log probabilities, actual label and the batchSize (to average the score).'''\n",
    "    predictions = out.max(dim=1)[1]\n",
    "    correct = (predictions == actual_labels).sum().item()\n",
    "    accuracy = correct/batch_size\n",
    "    \n",
    "    return accuracy"
   ]
  },
  {
   "cell_type": "code",
   "execution_count": 16,
   "metadata": {},
   "outputs": [],
   "source": [
    "def train_network(model, train_data, test_data, batchSize=64, num_epochs=1, learning_rate=0.001):\n",
    "    \n",
    "    '''Trains the model and computes the average accuracy for train and test data.'''\n",
    "    \n",
    "    print('Get data ready...')\n",
    "    # Create dataloader for training dataset - so we can train on multiple batches\n",
    "    # Shuffle after every epoch\n",
    "    train_loader = torch.utils.data.DataLoader(dataset=train_data, batch_size=batchSize, shuffle=True, drop_last=True)\n",
    "    test_loader = torch.utils.data.DataLoader(dataset=test_data, batch_size=batchSize, shuffle=True, drop_last=True)\n",
    "    \n",
    "    # Create criterion and optimizer\n",
    "    criterion = nn.CrossEntropyLoss()\n",
    "    optimizer = optim.Adam(model.parameters(), lr=learning_rate)\n",
    "    \n",
    "    \n",
    "    print('Training started...')\n",
    "    # Train the data multiple times\n",
    "    for epoch in range(num_epochs):\n",
    "        \n",
    "        # Save Train and Test Loss\n",
    "        train_loss = 0\n",
    "        train_acc = 0\n",
    "        \n",
    "        # Set model in training mode:\n",
    "        model.train()\n",
    "        \n",
    "        for k, (images, labels) in enumerate(train_loader):\n",
    "            \n",
    "            # Get rid of the channel\n",
    "            images = images.view(-1, 28, 28)\n",
    "            \n",
    "            # Create log probabilities\n",
    "            out = model(images)\n",
    "            # Clears the gradients from previous iteration\n",
    "            optimizer.zero_grad()\n",
    "            # Computes loss: how far is the prediction from the actual?\n",
    "            loss = criterion(out, labels)\n",
    "            # Computes gradients for neurons\n",
    "            loss.backward()\n",
    "            # Updates the weights\n",
    "            optimizer.step()\n",
    "            \n",
    "            # Save Loss & Accuracy after each iteration\n",
    "            train_loss += loss.item()\n",
    "            train_acc += get_accuracy(out, labels, batchSize)\n",
    "            \n",
    "        \n",
    "        # Print Average Train Loss & Accuracy after each epoch\n",
    "        print('TRAIN | Epoch: {}/{} | Loss: {:.2f} | Accuracy: {:.2f}'.format(epoch+1, num_epochs, train_loss/k, train_acc/k))\n",
    "            \n",
    "            \n",
    "    print('Testing Started...')\n",
    "    # Save Test Accuracy\n",
    "    test_acc = 0\n",
    "    # Evaluation mode\n",
    "    model.eval()\n",
    "    \n",
    "    for k, (images, labels) in enumerate(test_loader):\n",
    "        # Get rid of the channel\n",
    "        images = images.view(-1, 28, 28)\n",
    "        \n",
    "        # Create logit predictions\n",
    "        out = model(images)\n",
    "        # Add Accuracy of this batch\n",
    "        test_acc += get_accuracy(out, labels, batchSize)\n",
    "        \n",
    "    # Print Final Test Accuracy\n",
    "    print('TEST | Average Accuracy per {} Loaders: {:.5f}'.format(k, test_acc/k) )"
   ]
  },
  {
   "cell_type": "code",
   "execution_count": 17,
   "metadata": {},
   "outputs": [
    {
     "name": "stdout",
     "output_type": "stream",
     "text": [
      "Get data ready...\n",
      "Training started...\n",
      "TRAIN | Epoch: 1/10 | Loss: 0.80 | Accuracy: 0.74\n",
      "TRAIN | Epoch: 2/10 | Loss: 0.38 | Accuracy: 0.89\n",
      "TRAIN | Epoch: 3/10 | Loss: 0.29 | Accuracy: 0.92\n",
      "TRAIN | Epoch: 4/10 | Loss: 0.24 | Accuracy: 0.93\n",
      "TRAIN | Epoch: 5/10 | Loss: 0.21 | Accuracy: 0.94\n",
      "TRAIN | Epoch: 6/10 | Loss: 0.20 | Accuracy: 0.95\n",
      "TRAIN | Epoch: 7/10 | Loss: 0.19 | Accuracy: 0.95\n",
      "TRAIN | Epoch: 8/10 | Loss: 0.16 | Accuracy: 0.96\n",
      "TRAIN | Epoch: 9/10 | Loss: 0.15 | Accuracy: 0.96\n",
      "TRAIN | Epoch: 10/10 | Loss: 0.14 | Accuracy: 0.96\n",
      "Testing Started...\n",
      "TEST | Average Accuracy per 155 Loaders: 0.96946\n"
     ]
    }
   ],
   "source": [
    "# ==== STATICS ====\n",
    "batch_size=64\n",
    "input_size=28\n",
    "hidden_size=150\n",
    "output_size=10\n",
    "\n",
    "# Instantiate the model\n",
    "vanilla_rnn = VanillaRNN_MNIST(batch_size, input_size, hidden_size, output_size)\n",
    "\n",
    "# ==== TRAIN ====\n",
    "train_network(vanilla_rnn, mnist_train, mnist_test, num_epochs=10)"
   ]
  },
  {
   "cell_type": "markdown",
   "metadata": {},
   "source": [
    "<div class=\"alert alert-block alert-info\">\n",
    "<strong>Side Note</strong>: It's AMAZING how important hyperparameters are. Try changing the <code>learning_rate</code> to 0.01 and see what happens. Also try changing the <code>batch_size</code> to 20 instead of 64. Try adding <code>weight_decay</code> to the <code>optimizer</code> functions. The accuracy of the model now is impressive, but by altering some of these hyperparameters can change this \"sweet spot\" we found instantly.\n",
    "</div>\n",
    "\n"
   ]
  },
  {
   "cell_type": "markdown",
   "metadata": {},
   "source": [
    "# 4. Multilayer RNNs 📚\n",
    "\n",
    "## 4.1 Why multilayers?\n",
    "**Why use multiple layers rather than 1?**\n",
    "> to create higher-level abstractions and capture more non-linearities between the data\n",
    "\n",
    "**Multilayers in RNN**:\n",
    "* we want to create such abstractions, and at the same time enforce their correlation with the previous inputs\n",
    "* for 2 layers there are 2 hidden states as output, for 3 layers there are 3 hidden states and so on\n",
    "<img src='https://i.imgur.com/NIHrqIO.png' width=500>\n",
    "\n",
    "**Activation functions: ReLU vs Tanh**\n",
    "> use them to try to erase the vanishing gradients problem (we'll come back to these in the next chapter LSTM)\n",
    "<img src='https://i.imgur.com/OzyalSo.png' width=500>\n",
    "\n",
    "## 4.2 Multilayer RNN for MNIST Classification 🔢"
   ]
  },
  {
   "cell_type": "code",
   "execution_count": 18,
   "metadata": {},
   "outputs": [],
   "source": [
    "class MultilayerRNN_MNIST(nn.Module):\n",
    "    def __init__(self, input_size, hidden_size, layer_size, output_size, relu=True):\n",
    "        super(MultilayerRNN_MNIST, self).__init__()\n",
    "        self.input_size, self.hidden_size, self.layer_size, self.output_size = input_size, hidden_size, layer_size, output_size\n",
    "        \n",
    "        # Create RNN\n",
    "        if relu:\n",
    "            self.rnn = nn.RNN(input_size, hidden_size, layer_size, batch_first=True, nonlinearity='relu')\n",
    "        else:\n",
    "            self.rnn = nn.RNN(input_size, hidden_size, layer_size, batch_first=True, nonlinearity='tanh')\n",
    "            \n",
    "        # Create FNN\n",
    "        self.fnn = nn.Linear(hidden_size, output_size)\n",
    "        \n",
    "    def forward(self, images, prints=False):\n",
    "        if prints: print('images shape:', images.shape)\n",
    "        \n",
    "        # Instantiate hidden_state at timestamp 0\n",
    "        hidden_state = torch.zeros(self.layer_size, images.size(0), self.hidden_size)\n",
    "        hidden_state = hidden_state.requires_grad_()\n",
    "        if prints: print('Hidden State shape:', hidden_state.shape)\n",
    "        \n",
    "        # Compute RNN\n",
    "        # .detach() is required to prevent vanishing gradient problem\n",
    "        output, last_hidden_state = self.rnn(images, hidden_state.detach())\n",
    "        if prints: print('RNN Output shape:', output.shape, '\\n' +\n",
    "                         'RNN last_hidden_state shape', last_hidden_state.shape)\n",
    "        \n",
    "        # Compute FNN\n",
    "        # We get rid of the second size\n",
    "        output = self.fnn(output[:, -1, :])\n",
    "        if prints: print('FNN Output shape:', output.shape)\n",
    "        \n",
    "        return output"
   ]
  },
  {
   "cell_type": "markdown",
   "metadata": {},
   "source": [
    "### Understanding the Model:\n",
    "\n",
    "> Here is what's happening in the batch below:\n",
    "<img src='https://i.imgur.com/j2Yto51.png' width=500>"
   ]
  },
  {
   "cell_type": "code",
   "execution_count": 19,
   "metadata": {},
   "outputs": [],
   "source": [
    "# ===== STATICS =====\n",
    "batch_size = 64\n",
    "input_size = 28\n",
    "hidden_size = 100      # neurons\n",
    "layer_size = 2         # layers\n",
    "output_size = 10\n",
    "# ==================="
   ]
  },
  {
   "cell_type": "code",
   "execution_count": 20,
   "metadata": {},
   "outputs": [
    {
     "name": "stdout",
     "output_type": "stream",
     "text": [
      "original images shape: torch.Size([64, 1, 28, 28])\n",
      "reshaped images shape: torch.Size([64, 28, 28]) \n",
      "\n",
      "MultilayerRNN_MNIST(\n",
      "  (rnn): RNN(28, 100, num_layers=2, batch_first=True)\n",
      "  (fnn): Linear(in_features=100, out_features=10, bias=True)\n",
      ")\n",
      "images shape: torch.Size([64, 28, 28])\n",
      "Hidden State shape: torch.Size([2, 64, 100])\n",
      "RNN Output shape: torch.Size([64, 28, 100]) \n",
      "RNN last_hidden_state shape torch.Size([2, 64, 100])\n",
      "FNN Output shape: torch.Size([64, 10])\n"
     ]
    }
   ],
   "source": [
    "train_loader_example = torch.utils.data.DataLoader(mnist_train, batch_size=64)\n",
    "\n",
    "# Taking a single batch of the images\n",
    "images, labels = next(iter(train_loader_example))\n",
    "print('original images shape:', images.shape)\n",
    "\n",
    "# Remove channel from shape\n",
    "images = images.reshape(-1, 28, 28)\n",
    "print('reshaped images shape:', images.shape, '\\n')\n",
    "\n",
    "# Create model instance\n",
    "multilayer_rnn_example = MultilayerRNN_MNIST(input_size, hidden_size, layer_size, output_size, relu=False)\n",
    "print(multilayer_rnn_example)\n",
    "\n",
    "\n",
    "# Making log predictions:\n",
    "out = multilayer_rnn_example(images, prints=True)"
   ]
  },
  {
   "cell_type": "markdown",
   "metadata": {},
   "source": [
    "> If we unfold the Multilayer RNN Example:\n",
    "<img src='https://i.imgur.com/oyhyofT.png' width=500>"
   ]
  },
  {
   "cell_type": "markdown",
   "metadata": {},
   "source": [
    "### Training... 🚀\n",
    "Let's see how the model performs by adding 1 more layer."
   ]
  },
  {
   "cell_type": "code",
   "execution_count": 21,
   "metadata": {},
   "outputs": [
    {
     "name": "stdout",
     "output_type": "stream",
     "text": [
      "Get data ready...\n",
      "Training started...\n",
      "TRAIN | Epoch: 1/10 | Loss: 0.68 | Accuracy: 0.78\n",
      "TRAIN | Epoch: 2/10 | Loss: 0.29 | Accuracy: 0.91\n",
      "TRAIN | Epoch: 3/10 | Loss: 0.21 | Accuracy: 0.94\n",
      "TRAIN | Epoch: 4/10 | Loss: 0.18 | Accuracy: 0.95\n",
      "TRAIN | Epoch: 5/10 | Loss: 0.17 | Accuracy: 0.95\n",
      "TRAIN | Epoch: 6/10 | Loss: 0.15 | Accuracy: 0.96\n",
      "TRAIN | Epoch: 7/10 | Loss: 0.13 | Accuracy: 0.96\n",
      "TRAIN | Epoch: 8/10 | Loss: 0.13 | Accuracy: 0.96\n",
      "TRAIN | Epoch: 9/10 | Loss: 0.12 | Accuracy: 0.97\n",
      "TRAIN | Epoch: 10/10 | Loss: 0.12 | Accuracy: 0.97\n",
      "Testing Started...\n",
      "TEST | Average Accuracy per 155 Loaders: 0.97268\n"
     ]
    }
   ],
   "source": [
    "# ==== STATICS ====\n",
    "batch_size = 64\n",
    "input_size = 28\n",
    "hidden_size = 100  \n",
    "layer_size = 2         \n",
    "output_size = 10\n",
    "\n",
    "# Instantiate the model\n",
    "# We'll use TANH as our activation function\n",
    "multilayer_rnn = MultilayerRNN_MNIST(input_size, hidden_size, layer_size, output_size, relu=False)\n",
    "\n",
    "# ==== TRAIN ====\n",
    "train_network(multilayer_rnn, mnist_train, mnist_test, num_epochs=10)"
   ]
  },
  {
   "cell_type": "markdown",
   "metadata": {},
   "source": [
    "> Accuracy improves *faster* compared to the Vanilla RNN, while final TEST Accuracy is slightly bigger.\n",
    "\n",
    "# 5. LSTM (Long Short Term Memory RNNs) 💾\n",
    "\n",
    "## 5.1 Material to Save you Time 🎥\n",
    "\n",
    "I *highly recommend* going through the references below before continuing. You will understand how LSTMs are different from RNNs, how they works and what is Vanishing Gradient Problem.\n",
    "\n",
    "<div class=\"alert alert-block alert-info\">\n",
    "<img src='https://i.imgur.com/H6AnLaj.png' width='70' align='left'></img>\n",
    "<p><a href='https://www.youtube.com/watch?v=8HyCNIVRbSU'>Illustrated Guide to LSTM's and GRU's: A step by step explanation</a></p>\n",
    "<p><a href='https://colah.github.io/posts/2015-08-Understanding-LSTMs/'>Also this amazing blog post explains the Vanishing Gradient Problem and LSTMs</a></p>\n",
    "</div>"
   ]
  },
  {
   "cell_type": "code",
   "execution_count": 22,
   "metadata": {
    "_kg_hide-input": true
   },
   "outputs": [
    {
     "data": {
      "image/jpeg": "[encoded data removed]",
      "text/html": [
       "\n",
       "        <iframe\n",
       "            width=\"500\"\n",
       "            height=\"200\"\n",
       "            src=\"https://www.youtube.com/embed/8HyCNIVRbSU\"\n",
       "            frameborder=\"0\"\n",
       "            allowfullscreen\n",
       "        ></iframe>\n",
       "        "
      ],
      "text/plain": [
       "<IPython.lib.display.YouTubeVideo at 0x7f03db71d7d0>"
      ]
     },
     "execution_count": 22,
     "metadata": {},
     "output_type": "execute_result"
    }
   ],
   "source": [
    "YouTubeVideo(\"8HyCNIVRbSU\", width=500, height=200)"
   ]
  },
  {
   "cell_type": "markdown",
   "metadata": {},
   "source": [
    "## 5.2 Why RNN might not be the best idea:\n",
    "**Issues in Vanilla RNNs**: 🍦\n",
    "* have short term memory, caused by the vanishing gradient problem\n",
    "* as the RNN process has more steps (timestamps), it has more and more difficulty retaining information from previous steps\n",
    "\n",
    "## 5.3 Vanishing Gradient Problem 🌪\n",
    "**What is vanishing gradient**:\n",
    "* it is due to the nature of backpropagation (during the optimization process)\n",
    "* the steps are:\n",
    "    1. a forward step through the network\n",
    "    2. computing the predictions\n",
    "    3. comparing the predictions with the actual values and computing a LOSS function\n",
    "    4. backpropagation uses the loss to adjust the weights in the network going BACKWARDS\n",
    "    5. backpropagation calculates the gradients of the nodes in each layer\n",
    "* if the GRADIENT is big, the adjustment in weight is big and vice versa\n",
    "* **PROBLEM**: during backpropagation, each node calculates its gradient with the respect of the effects of the gradients in the layer before it. So if the adjustment in the previous layer is small, then the adjustment in the current layer will be smaller\n",
    "* **CONSEQUENCE**: the first layers of the network don't learn (because the adjustemnt are extremely small)\n",
    "\n",
    "<img src='https://i.imgur.com/6DtSeNT.png' width=400>\n",
    "\n",
    "## 5.4 How does LSTM work?\n",
    "An LSTM is more complex than an simple RNN:\n",
    "* it is composed by cell states and gates\n",
    "* it has the purpose to LEARN what to remember and forget reduntant information\n",
    "* it uses SIGMOID functions instead of TANH\n",
    "* Composition of the cell in LSTM:\n",
    "    * the cell has 2 outputs: the cell state and the hidden state\n",
    "    \n",
    "    1. Forget Gate (`Xt + ht-1`): desides what information to FORGET; the closer to 0 is forget, the closer to 1 is remain\n",
    "    2. Input Gate (`Xt + ht-1`): creates a candidate with what information to remain\n",
    "    3. Current Cell State: `ft*Ct-1 + it*Ct`\n",
    "    4. Output Gate (`(Xt + ht-1) * ct`): desides what the next hidden state should be (which contains info about previous inputs)\n",
    "    \n",
    "> Note: [Check THIS blog post for more detailed explanation.](https://towardsdatascience.com/illustrated-guide-to-lstms-and-gru-s-a-step-by-step-explanation-44e9eb85bf21)\n",
    "    \n",
    "<img src='https://i.imgur.com/6aayOcS.png' width=300>\n",
    "    \n",
    "> The **Stacked LSTM** is like the Multilayer RNN: it has multiple hidden LSTM layers which contain multiple memory cells\n",
    "\n",
    "## 5.5 LSTM for MNIST Classification 🔢\n",
    "\n",
    "> **Bidirectional LSTMs** : are an extension of traditional LSTMs that can improve model performance on sequence classification problems. They train the model *forward* and *backward* on the same input (so for 1 layer LSTM we get 2 hidden and cell states)\n",
    "\n",
    "<img src='https://i.imgur.com/z6iDAQB.png' width=400>"
   ]
  },
  {
   "cell_type": "code",
   "execution_count": 23,
   "metadata": {},
   "outputs": [],
   "source": [
    "class LSTM_MNIST(nn.Module):\n",
    "    def __init__(self, input_size, hidden_size, layer_size, output_size, bidirectional=True):\n",
    "        super(LSTM_MNIST, self).__init__()\n",
    "        \n",
    "        self.input_size, self.hidden_size, self.layer_size, self.output_size = input_size, hidden_size, layer_size, output_size\n",
    "        self.bidirectional = bidirectional\n",
    "        \n",
    "        # Step1: the LSTM model\n",
    "        self.lstm = nn.LSTM(input_size, hidden_size, layer_size, batch_first=True, bidirectional=bidirectional)\n",
    "        \n",
    "        # Step2: the FNN\n",
    "        if bidirectional: # we'll have 2 more layers\n",
    "            self.layer = nn.Linear(hidden_size*2, output_size)\n",
    "        else:\n",
    "            self.layer = nn.Linear(hidden_size, output_size)\n",
    "            \n",
    "            \n",
    "    def forward(self, images, prints=False):\n",
    "        if prints: print('images shape:', images.shape)\n",
    "        \n",
    "        # Set initial states\n",
    "        if self.bidirectional:\n",
    "            # Hidden state:\n",
    "            hidden_state = torch.zeros(self.layer_size*2, images.size(0), self.hidden_size)\n",
    "            # Cell state:\n",
    "            cell_state = torch.zeros(self.layer_size*2, images.size(0), self.hidden_size)\n",
    "        else:\n",
    "            # Hidden state:\n",
    "            hidden_state = torch.zeros(self.layer_size, images.size(0), self.hidden_size)\n",
    "            # Cell state:\n",
    "            cell_state = torch.zeros(self.layer_size, images.size(0), self.hidden_size)\n",
    "        if prints: print('hidden_state t0 shape:', hidden_state.shape, '\\n' +\n",
    "                         'cell_state t0 shape:', cell_state.shape)\n",
    "        \n",
    "        # LSTM:\n",
    "        output, (last_hidden_state, last_cell_state) = self.lstm(images, (hidden_state, cell_state))\n",
    "        if prints: print('LSTM: output shape:', output.shape, '\\n' +\n",
    "                         'LSTM: last_hidden_state shape:', last_hidden_state.shape, '\\n' +\n",
    "                         'LSTM: last_cell_state shape:', last_cell_state.shape)\n",
    "        # Reshape\n",
    "        output = output[:, -1, :]\n",
    "        if prints: print('output reshape:', output.shape)\n",
    "        \n",
    "        # FNN:\n",
    "        output = self.layer(output)\n",
    "        if prints: print('FNN: Final output shape:', output.shape)\n",
    "        \n",
    "        return output"
   ]
  },
  {
   "cell_type": "markdown",
   "metadata": {},
   "source": [
    "### How the Model Works:\n",
    "> Below is a schema of how the example code works\n",
    "<img src='https://i.imgur.com/AEtXhKH.png' width=500>"
   ]
  },
  {
   "cell_type": "code",
   "execution_count": 24,
   "metadata": {},
   "outputs": [],
   "source": [
    "# ====== STATICS ======\n",
    "batch_size = 64\n",
    "input_size = 28       # width of image\n",
    "hidden_size = 128     # number of hidden neurons\n",
    "layer_size = 2        # number of layers\n",
    "output_size = 10      # possible choices\n",
    "# ====================="
   ]
  },
  {
   "cell_type": "code",
   "execution_count": 25,
   "metadata": {},
   "outputs": [
    {
     "name": "stdout",
     "output_type": "stream",
     "text": [
      "original images shape: torch.Size([64, 1, 28, 28])\n",
      "reshaped images shape: torch.Size([64, 28, 28]) \n",
      "\n",
      "lstm_example: LSTM_MNIST(\n",
      "  (lstm): LSTM(28, 128, num_layers=2, batch_first=True, bidirectional=True)\n",
      "  (layer): Linear(in_features=256, out_features=10, bias=True)\n",
      ") \n",
      "\n",
      "images shape: torch.Size([64, 28, 28])\n",
      "hidden_state t0 shape: torch.Size([4, 64, 128]) \n",
      "cell_state t0 shape: torch.Size([4, 64, 128])\n",
      "LSTM: output shape: torch.Size([64, 28, 256]) \n",
      "LSTM: last_hidden_state shape: torch.Size([4, 64, 128]) \n",
      "LSTM: last_cell_state shape: torch.Size([4, 64, 128])\n",
      "output reshape: torch.Size([64, 256])\n",
      "FNN: Final output shape: torch.Size([64, 10])\n"
     ]
    }
   ],
   "source": [
    "# Taking a single batch of the images\n",
    "images, labels = next(iter(train_loader_example))\n",
    "print('original images shape:', images.shape)\n",
    "# Remove channel from shape\n",
    "images = images.reshape(-1, 28, 28)\n",
    "print('reshaped images shape:', images.shape, '\\n')\n",
    "\n",
    "# Creating the Model\n",
    "lstm_example = LSTM_MNIST(input_size, hidden_size, layer_size, output_size)\n",
    "print('lstm_example:', lstm_example, '\\n')\n",
    "\n",
    "# Making log predictions:\n",
    "out = lstm_example(images, prints=True)"
   ]
  },
  {
   "cell_type": "markdown",
   "metadata": {},
   "source": [
    "### Training on ALL IMAGES 🚀"
   ]
  },
  {
   "cell_type": "code",
   "execution_count": 26,
   "metadata": {},
   "outputs": [
    {
     "name": "stdout",
     "output_type": "stream",
     "text": [
      "Get data ready...\n",
      "Training started...\n",
      "TRAIN | Epoch: 1/10 | Loss: 0.48 | Accuracy: 0.84\n",
      "TRAIN | Epoch: 2/10 | Loss: 0.14 | Accuracy: 0.96\n",
      "TRAIN | Epoch: 3/10 | Loss: 0.09 | Accuracy: 0.97\n",
      "TRAIN | Epoch: 4/10 | Loss: 0.07 | Accuracy: 0.98\n",
      "TRAIN | Epoch: 5/10 | Loss: 0.06 | Accuracy: 0.98\n",
      "TRAIN | Epoch: 6/10 | Loss: 0.05 | Accuracy: 0.99\n",
      "TRAIN | Epoch: 7/10 | Loss: 0.04 | Accuracy: 0.99\n",
      "TRAIN | Epoch: 8/10 | Loss: 0.03 | Accuracy: 0.99\n",
      "TRAIN | Epoch: 9/10 | Loss: 0.03 | Accuracy: 0.99\n",
      "TRAIN | Epoch: 10/10 | Loss: 0.03 | Accuracy: 0.99\n",
      "Testing Started...\n",
      "TEST | Average Accuracy per 155 Loaders: 0.99153\n"
     ]
    }
   ],
   "source": [
    "# ==== STATICS ====\n",
    "batch_size = 64\n",
    "input_size = 28\n",
    "hidden_size = 100  \n",
    "layer_size = 2         \n",
    "output_size = 10\n",
    "\n",
    "# Instantiate the model\n",
    "# We'll use TANH as our activation function\n",
    "lstm_rnn = LSTM_MNIST(input_size, hidden_size, layer_size, output_size)\n",
    "\n",
    "# ==== TRAIN ====\n",
    "train_network(lstm_rnn, mnist_train, mnist_test, num_epochs=10)"
   ]
  },
  {
   "cell_type": "markdown",
   "metadata": {},
   "source": [
    "> Now we get even *HIGHER* accuracies than the ones before. \n",
    "> If we make a recap, FNNs from my previous notebook had an accuracy of ~ 80%, CNNs had and accuracy of almost 90%, while RNN reached 97%. Lastly, **LSTMs** were the best performing ones (99% accuracy).\n",
    "\n",
    "# 6. Bonuses ➕\n",
    "## 6.1 Confusion Matrix 🤔\n",
    "\n",
    "A good way to visualize better how the model is performing is through a confusion matrix. So, you can see how well each label is predicted and what labels the model confuses with other labels (for example a 7 can be sometimes confused with 1)."
   ]
  },
  {
   "cell_type": "code",
   "execution_count": 27,
   "metadata": {},
   "outputs": [],
   "source": [
    "def get_confusion_matrix(model, test_data):\n",
    "    # First we make sure we disable Gradient Computing\n",
    "    torch.no_grad()\n",
    "    \n",
    "    # Model in Evaluation Mode\n",
    "    model.eval()\n",
    "    \n",
    "    preds, actuals = [], []\n",
    "\n",
    "    for image, label in mnist_test:\n",
    "        image = image.view(-1, 28, 28)\n",
    "        out = model(image)\n",
    "\n",
    "        prediction = torch.max(out, dim=1)[1].item()\n",
    "        preds.append(prediction)\n",
    "        actuals.append(label)\n",
    "    \n",
    "    return sklearn.metrics.confusion_matrix(preds, actuals)"
   ]
  },
  {
   "cell_type": "code",
   "execution_count": 28,
   "metadata": {},
   "outputs": [
    {
     "data": {
      "image/png": "[encoded data removed]",
      "text/plain": [
       "<Figure size 1152x360 with 2 Axes>"
      ]
     },
     "metadata": {
      "needs_background": "light"
     },
     "output_type": "display_data"
    }
   ],
   "source": [
    "plt.figure(figsize=(16, 5))\n",
    "sns.heatmap(get_confusion_matrix(lstm_rnn, mnist_test), cmap='icefire', annot=True, linewidths=0.1,\n",
    "           fmt = ',')\n",
    "plt.title('Confusion Matrix: LSTM', fontsize=15);"
   ]
  },
  {
   "cell_type": "markdown",
   "metadata": {},
   "source": [
    "## 6.2 Why shouldn't you use Transfer Learning?🧠\n",
    "\n",
    "Transfer learning is a genious way to use the weights of a pretrained model on another set of images. This technique is often used in deep learning classification problems that use CNN (like EffNets, ResNets etc).\n",
    "\n",
    "However, this is not a regular technique used for RNN networks. This is mainly because *recurrent* data cannot really be generalized like static data (images) can be.\n",
    "\n",
    "[Read more about this here.](https://www.quora.com/In-recurrent-neural-networks-like-LSTMs-is-it-possible-to-do-transfer-learning-Has-there-been-any-research-in-this-area)"
   ]
  },
  {
   "cell_type": "markdown",
   "metadata": {},
   "source": [
    "# Other How I taught myself Deep Learning Notebooks📋\n",
    "* [How I taught myself Deep Learning: Vanilla NNs](https://www.kaggle.com/andradaolteanu/how-i-taught-myself-deep-learning-1-pytorch-fnn)\n",
    "* [Convolutional Neural Nets (CNNs) Explained](https://www.kaggle.com/andradaolteanu/convolutional-neural-nets-cnns-explained)\n",
    "\n",
    "If you have any questions, please do not hesitate to ask. This notebook is made to bring more clear understanding of concepts and coding, so this would also help me add, modify and improve it. \n",
    "\n",
    "<div class=\"alert alert-block alert-warning\"> \n",
    "<p>If you liked this, upvote!</p>\n",
    "<p>Cheers!</p>\n",
    "</div>\n",
    "\n",
    "# References📇:\n",
    "* [Illustrated Guide to Recurrent Neural Networks: Understanding the Intuition](https://www.youtube.com/watch?v=LHXXI4-IEns)\n",
    "* [Illustrated Guide to LSTM's and GRU's: A step by step explanation](https://www.youtube.com/watch?v=8HyCNIVRbSU)\n",
    "    * [Also the blog post](https://towardsdatascience.com/illustrated-guide-to-lstms-and-gru-s-a-step-by-step-explanation-44e9eb85bf21)\n",
    "* [Understanding LSTM Networks](https://colah.github.io/posts/2015-08-Understanding-LSTMs/)"
   ]
  }
 ],
 "metadata": {
  "kernelspec": {
   "display_name": "Python 3 (ipykernel)",
   "language": "python",
   "name": "python3"
  },
  "language_info": {
   "codemirror_mode": {
    "name": "ipython",
    "version": 3
   },
   "file_extension": ".py",
   "mimetype": "text/x-python",
   "name": "python",
   "nbconvert_exporter": "python",
   "pygments_lexer": "ipython3",
   "version": "3.7.4"
  },
  "widgets": {
   "application/vnd.jupyter.widget-state+json": {
    "state": {
     "13aef9fa9300488793f35541290795c2": {
      "model_module": "@jupyter-widgets/base",
      "model_module_version": "1.2.0",
      "model_name": "LayoutModel",
      "state": {
       "_model_module": "@jupyter-widgets/base",
       "_model_module_version": "1.2.0",
       "_model_name": "LayoutModel",
       "_view_count": null,
       "_view_module": "@jupyter-widgets/base",
       "_view_module_version": "1.2.0",
       "_view_name": "LayoutView",
       "align_content": null,
       "align_items": null,
       "align_self": null,
       "border": null,
       "bottom": null,
       "display": null,
       "flex": null,
       "flex_flow": null,
       "grid_area": null,
       "grid_auto_columns": null,
       "grid_auto_flow": null,
       "grid_auto_rows": null,
       "grid_column": null,
       "grid_gap": null,
       "grid_row": null,
       "grid_template_areas": null,
       "grid_template_columns": null,
       "grid_template_rows": null,
       "height": null,
       "justify_content": null,
       "justify_items": null,
       "left": null,
       "margin": null,
       "max_height": null,
       "max_width": null,
       "min_height": null,
       "min_width": null,
       "object_fit": null,
       "object_position": null,
       "order": null,
       "overflow": null,
       "overflow_x": null,
       "overflow_y": null,
       "padding": null,
       "right": null,
       "top": null,
       "visibility": null,
       "width": null
      }
     },
     "1b893c92f05d4d9ba935322453931bbd": {
      "model_module": "@jupyter-widgets/controls",
      "model_module_version": "1.5.0",
      "model_name": "DescriptionStyleModel",
      "state": {
       "_model_module": "@jupyter-widgets/controls",
       "_model_module_version": "1.5.0",
       "_model_name": "DescriptionStyleModel",
       "_view_count": null,
       "_view_module": "@jupyter-widgets/base",
       "_view_module_version": "1.2.0",
       "_view_name": "StyleView",
       "description_width": ""
      }
     },
     "27e1c05fe638412580261d8e6d52dda1": {
      "model_module": "@jupyter-widgets/controls",
      "model_module_version": "1.5.0",
      "model_name": "FloatProgressModel",
      "state": {
       "_dom_classes": [],
       "_model_module": "@jupyter-widgets/controls",
       "_model_module_version": "1.5.0",
       "_model_name": "FloatProgressModel",
       "_view_count": null,
       "_view_module": "@jupyter-widgets/controls",
       "_view_module_version": "1.5.0",
       "_view_name": "ProgressView",
       "bar_style": "success",
       "description": "",
       "description_tooltip": null,
       "layout": "IPY_MODEL_40afad8c7472482ba7d72f6aded2fbd8",
       "max": 1,
       "min": 0,
       "orientation": "horizontal",
       "style": "IPY_MODEL_4d0b677d682b4a0fb5368de5ca059f9c",
       "value": 1
      }
     },
     "2c0d1f037c324e6b970fdda52e81a7f8": {
      "model_module": "@jupyter-widgets/base",
      "model_module_version": "1.2.0",
      "model_name": "LayoutModel",
      "state": {
       "_model_module": "@jupyter-widgets/base",
       "_model_module_version": "1.2.0",
       "_model_name": "LayoutModel",
       "_view_count": null,
       "_view_module": "@jupyter-widgets/base",
       "_view_module_version": "1.2.0",
       "_view_name": "LayoutView",
       "align_content": null,
       "align_items": null,
       "align_self": null,
       "border": null,
       "bottom": null,
       "display": null,
       "flex": null,
       "flex_flow": null,
       "grid_area": null,
       "grid_auto_columns": null,
       "grid_auto_flow": null,
       "grid_auto_rows": null,
       "grid_column": null,
       "grid_gap": null,
       "grid_row": null,
       "grid_template_areas": null,
       "grid_template_columns": null,
       "grid_template_rows": null,
       "height": null,
       "justify_content": null,
       "justify_items": null,
       "left": null,
       "margin": null,
       "max_height": null,
       "max_width": null,
       "min_height": null,
       "min_width": null,
       "object_fit": null,
       "object_position": null,
       "order": null,
       "overflow": null,
       "overflow_x": null,
       "overflow_y": null,
       "padding": null,
       "right": null,
       "top": null,
       "visibility": null,
       "width": null
      }
     },
     "31dbadba6f9c4cbd87c170f5cfb81602": {
      "model_module": "@jupyter-widgets/controls",
      "model_module_version": "1.5.0",
      "model_name": "ProgressStyleModel",
      "state": {
       "_model_module": "@jupyter-widgets/controls",
       "_model_module_version": "1.5.0",
       "_model_name": "ProgressStyleModel",
       "_view_count": null,
       "_view_module": "@jupyter-widgets/base",
       "_view_module_version": "1.2.0",
       "_view_name": "StyleView",
       "bar_color": null,
       "description_width": "initial"
      }
     },
     "3c3d46c604734dbdbb4cc7f0dbd97689": {
      "model_module": "@jupyter-widgets/controls",
      "model_module_version": "1.5.0",
      "model_name": "HTMLModel",
      "state": {
       "_dom_classes": [],
       "_model_module": "@jupyter-widgets/controls",
       "_model_module_version": "1.5.0",
       "_model_name": "HTMLModel",
       "_view_count": null,
       "_view_module": "@jupyter-widgets/controls",
       "_view_module_version": "1.5.0",
       "_view_name": "HTMLView",
       "description": "",
       "description_tooltip": null,
       "layout": "IPY_MODEL_91dfbd5d4d1745a9b6882569ea8b8182",
       "placeholder": "​",
       "style": "IPY_MODEL_535d162ea149411eb48c032a5b557486",
       "value": " 1654784/? [00:01&lt;00:00, 1266038.92it/s]"
      }
     },
     "40afad8c7472482ba7d72f6aded2fbd8": {
      "model_module": "@jupyter-widgets/base",
      "model_module_version": "1.2.0",
      "model_name": "LayoutModel",
      "state": {
       "_model_module": "@jupyter-widgets/base",
       "_model_module_version": "1.2.0",
       "_model_name": "LayoutModel",
       "_view_count": null,
       "_view_module": "@jupyter-widgets/base",
       "_view_module_version": "1.2.0",
       "_view_name": "LayoutView",
       "align_content": null,
       "align_items": null,
       "align_self": null,
       "border": null,
       "bottom": null,
       "display": null,
       "flex": null,
       "flex_flow": null,
       "grid_area": null,
       "grid_auto_columns": null,
       "grid_auto_flow": null,
       "grid_auto_rows": null,
       "grid_column": null,
       "grid_gap": null,
       "grid_row": null,
       "grid_template_areas": null,
       "grid_template_columns": null,
       "grid_template_rows": null,
       "height": null,
       "justify_content": null,
       "justify_items": null,
       "left": null,
       "margin": null,
       "max_height": null,
       "max_width": null,
       "min_height": null,
       "min_width": null,
       "object_fit": null,
       "object_position": null,
       "order": null,
       "overflow": null,
       "overflow_x": null,
       "overflow_y": null,
       "padding": null,
       "right": null,
       "top": null,
       "visibility": null,
       "width": null
      }
     },
     "4c6e1ff086bf41b9843f3c344f759539": {
      "model_module": "@jupyter-widgets/base",
      "model_module_version": "1.2.0",
      "model_name": "LayoutModel",
      "state": {
       "_model_module": "@jupyter-widgets/base",
       "_model_module_version": "1.2.0",
       "_model_name": "LayoutModel",
       "_view_count": null,
       "_view_module": "@jupyter-widgets/base",
       "_view_module_version": "1.2.0",
       "_view_name": "LayoutView",
       "align_content": null,
       "align_items": null,
       "align_self": null,
       "border": null,
       "bottom": null,
       "display": null,
       "flex": null,
       "flex_flow": null,
       "grid_area": null,
       "grid_auto_columns": null,
       "grid_auto_flow": null,
       "grid_auto_rows": null,
       "grid_column": null,
       "grid_gap": null,
       "grid_row": null,
       "grid_template_areas": null,
       "grid_template_columns": null,
       "grid_template_rows": null,
       "height": null,
       "justify_content": null,
       "justify_items": null,
       "left": null,
       "margin": null,
       "max_height": null,
       "max_width": null,
       "min_height": null,
       "min_width": null,
       "object_fit": null,
       "object_position": null,
       "order": null,
       "overflow": null,
       "overflow_x": null,
       "overflow_y": null,
       "padding": null,
       "right": null,
       "top": null,
       "visibility": null,
       "width": null
      }
     },
     "4d0b677d682b4a0fb5368de5ca059f9c": {
      "model_module": "@jupyter-widgets/controls",
      "model_module_version": "1.5.0",
      "model_name": "ProgressStyleModel",
      "state": {
       "_model_module": "@jupyter-widgets/controls",
       "_model_module_version": "1.5.0",
       "_model_name": "ProgressStyleModel",
       "_view_count": null,
       "_view_module": "@jupyter-widgets/base",
       "_view_module_version": "1.2.0",
       "_view_name": "StyleView",
       "bar_color": null,
       "description_width": "initial"
      }
     },
     "518530bc0af349e78847bc0f0b401724": {
      "model_module": "@jupyter-widgets/controls",
      "model_module_version": "1.5.0",
      "model_name": "HBoxModel",
      "state": {
       "_dom_classes": [],
       "_model_module": "@jupyter-widgets/controls",
       "_model_module_version": "1.5.0",
       "_model_name": "HBoxModel",
       "_view_count": null,
       "_view_module": "@jupyter-widgets/controls",
       "_view_module_version": "1.5.0",
       "_view_name": "HBoxView",
       "box_style": "",
       "children": [
        "IPY_MODEL_27e1c05fe638412580261d8e6d52dda1",
        "IPY_MODEL_76170805c5f14d23a7b22b5b69bb9c36"
       ],
       "layout": "IPY_MODEL_dc16fd48447a4efaa4e146c19d3d8d0d"
      }
     },
     "535d162ea149411eb48c032a5b557486": {
      "model_module": "@jupyter-widgets/controls",
      "model_module_version": "1.5.0",
      "model_name": "DescriptionStyleModel",
      "state": {
       "_model_module": "@jupyter-widgets/controls",
       "_model_module_version": "1.5.0",
       "_model_name": "DescriptionStyleModel",
       "_view_count": null,
       "_view_module": "@jupyter-widgets/base",
       "_view_module_version": "1.2.0",
       "_view_name": "StyleView",
       "description_width": ""
      }
     },
     "53b1f2d022f54df989ad810f4bd33cca": {
      "model_module": "@jupyter-widgets/controls",
      "model_module_version": "1.5.0",
      "model_name": "FloatProgressModel",
      "state": {
       "_dom_classes": [],
       "_model_module": "@jupyter-widgets/controls",
       "_model_module_version": "1.5.0",
       "_model_name": "FloatProgressModel",
       "_view_count": null,
       "_view_module": "@jupyter-widgets/controls",
       "_view_module_version": "1.5.0",
       "_view_name": "ProgressView",
       "bar_style": "success",
       "description": "",
       "description_tooltip": null,
       "layout": "IPY_MODEL_c4df1aa6f14e4cc9b501b870665685df",
       "max": 1,
       "min": 0,
       "orientation": "horizontal",
       "style": "IPY_MODEL_bf5dbcd034db40bdb88e69a95cf7d17f",
       "value": 1
      }
     },
     "568c22765b3b4670ad1f609a197e4ddd": {
      "model_module": "@jupyter-widgets/controls",
      "model_module_version": "1.5.0",
      "model_name": "HTMLModel",
      "state": {
       "_dom_classes": [],
       "_model_module": "@jupyter-widgets/controls",
       "_model_module_version": "1.5.0",
       "_model_name": "HTMLModel",
       "_view_count": null,
       "_view_module": "@jupyter-widgets/controls",
       "_view_module_version": "1.5.0",
       "_view_name": "HTMLView",
       "description": "",
       "description_tooltip": null,
       "layout": "IPY_MODEL_13aef9fa9300488793f35541290795c2",
       "placeholder": "​",
       "style": "IPY_MODEL_db845ddf64e3408795e13c6f85e00ef9",
       "value": " 9920512/? [00:20&lt;00:00, 710552.66it/s]"
      }
     },
     "6402f99964624006bda992f9264f70ee": {
      "model_module": "@jupyter-widgets/controls",
      "model_module_version": "1.5.0",
      "model_name": "FloatProgressModel",
      "state": {
       "_dom_classes": [],
       "_model_module": "@jupyter-widgets/controls",
       "_model_module_version": "1.5.0",
       "_model_name": "FloatProgressModel",
       "_view_count": null,
       "_view_module": "@jupyter-widgets/controls",
       "_view_module_version": "1.5.0",
       "_view_name": "ProgressView",
       "bar_style": "success",
       "description": "",
       "description_tooltip": null,
       "layout": "IPY_MODEL_7affa725b5834818b7dd1587474bf2ba",
       "max": 1,
       "min": 0,
       "orientation": "horizontal",
       "style": "IPY_MODEL_31dbadba6f9c4cbd87c170f5cfb81602",
       "value": 1
      }
     },
     "76170805c5f14d23a7b22b5b69bb9c36": {
      "model_module": "@jupyter-widgets/controls",
      "model_module_version": "1.5.0",
      "model_name": "HTMLModel",
      "state": {
       "_dom_classes": [],
       "_model_module": "@jupyter-widgets/controls",
       "_model_module_version": "1.5.0",
       "_model_name": "HTMLModel",
       "_view_count": null,
       "_view_module": "@jupyter-widgets/controls",
       "_view_module_version": "1.5.0",
       "_view_name": "HTMLView",
       "description": "",
       "description_tooltip": null,
       "layout": "IPY_MODEL_7acd3759dca4413d94be7e6c872f4936",
       "placeholder": "​",
       "style": "IPY_MODEL_1b893c92f05d4d9ba935322453931bbd",
       "value": " 32768/? [00:01&lt;00:00, 19823.37it/s]"
      }
     },
     "7acd3759dca4413d94be7e6c872f4936": {
      "model_module": "@jupyter-widgets/base",
      "model_module_version": "1.2.0",
      "model_name": "LayoutModel",
      "state": {
       "_model_module": "@jupyter-widgets/base",
       "_model_module_version": "1.2.0",
       "_model_name": "LayoutModel",
       "_view_count": null,
       "_view_module": "@jupyter-widgets/base",
       "_view_module_version": "1.2.0",
       "_view_name": "LayoutView",
       "align_content": null,
       "align_items": null,
       "align_self": null,
       "border": null,
       "bottom": null,
       "display": null,
       "flex": null,
       "flex_flow": null,
       "grid_area": null,
       "grid_auto_columns": null,
       "grid_auto_flow": null,
       "grid_auto_rows": null,
       "grid_column": null,
       "grid_gap": null,
       "grid_row": null,
       "grid_template_areas": null,
       "grid_template_columns": null,
       "grid_template_rows": null,
       "height": null,
       "justify_content": null,
       "justify_items": null,
       "left": null,
       "margin": null,
       "max_height": null,
       "max_width": null,
       "min_height": null,
       "min_width": null,
       "object_fit": null,
       "object_position": null,
       "order": null,
       "overflow": null,
       "overflow_x": null,
       "overflow_y": null,
       "padding": null,
       "right": null,
       "top": null,
       "visibility": null,
       "width": null
      }
     },
     "7affa725b5834818b7dd1587474bf2ba": {
      "model_module": "@jupyter-widgets/base",
      "model_module_version": "1.2.0",
      "model_name": "LayoutModel",
      "state": {
       "_model_module": "@jupyter-widgets/base",
       "_model_module_version": "1.2.0",
       "_model_name": "LayoutModel",
       "_view_count": null,
       "_view_module": "@jupyter-widgets/base",
       "_view_module_version": "1.2.0",
       "_view_name": "LayoutView",
       "align_content": null,
       "align_items": null,
       "align_self": null,
       "border": null,
       "bottom": null,
       "display": null,
       "flex": null,
       "flex_flow": null,
       "grid_area": null,
       "grid_auto_columns": null,
       "grid_auto_flow": null,
       "grid_auto_rows": null,
       "grid_column": null,
       "grid_gap": null,
       "grid_row": null,
       "grid_template_areas": null,
       "grid_template_columns": null,
       "grid_template_rows": null,
       "height": null,
       "justify_content": null,
       "justify_items": null,
       "left": null,
       "margin": null,
       "max_height": null,
       "max_width": null,
       "min_height": null,
       "min_width": null,
       "object_fit": null,
       "object_position": null,
       "order": null,
       "overflow": null,
       "overflow_x": null,
       "overflow_y": null,
       "padding": null,
       "right": null,
       "top": null,
       "visibility": null,
       "width": null
      }
     },
     "8e707a8dbdbd4c9fbd3b47aaf07031e3": {
      "model_module": "@jupyter-widgets/base",
      "model_module_version": "1.2.0",
      "model_name": "LayoutModel",
      "state": {
       "_model_module": "@jupyter-widgets/base",
       "_model_module_version": "1.2.0",
       "_model_name": "LayoutModel",
       "_view_count": null,
       "_view_module": "@jupyter-widgets/base",
       "_view_module_version": "1.2.0",
       "_view_name": "LayoutView",
       "align_content": null,
       "align_items": null,
       "align_self": null,
       "border": null,
       "bottom": null,
       "display": null,
       "flex": null,
       "flex_flow": null,
       "grid_area": null,
       "grid_auto_columns": null,
       "grid_auto_flow": null,
       "grid_auto_rows": null,
       "grid_column": null,
       "grid_gap": null,
       "grid_row": null,
       "grid_template_areas": null,
       "grid_template_columns": null,
       "grid_template_rows": null,
       "height": null,
       "justify_content": null,
       "justify_items": null,
       "left": null,
       "margin": null,
       "max_height": null,
       "max_width": null,
       "min_height": null,
       "min_width": null,
       "object_fit": null,
       "object_position": null,
       "order": null,
       "overflow": null,
       "overflow_x": null,
       "overflow_y": null,
       "padding": null,
       "right": null,
       "top": null,
       "visibility": null,
       "width": null
      }
     },
     "91dfbd5d4d1745a9b6882569ea8b8182": {
      "model_module": "@jupyter-widgets/base",
      "model_module_version": "1.2.0",
      "model_name": "LayoutModel",
      "state": {
       "_model_module": "@jupyter-widgets/base",
       "_model_module_version": "1.2.0",
       "_model_name": "LayoutModel",
       "_view_count": null,
       "_view_module": "@jupyter-widgets/base",
       "_view_module_version": "1.2.0",
       "_view_name": "LayoutView",
       "align_content": null,
       "align_items": null,
       "align_self": null,
       "border": null,
       "bottom": null,
       "display": null,
       "flex": null,
       "flex_flow": null,
       "grid_area": null,
       "grid_auto_columns": null,
       "grid_auto_flow": null,
       "grid_auto_rows": null,
       "grid_column": null,
       "grid_gap": null,
       "grid_row": null,
       "grid_template_areas": null,
       "grid_template_columns": null,
       "grid_template_rows": null,
       "height": null,
       "justify_content": null,
       "justify_items": null,
       "left": null,
       "margin": null,
       "max_height": null,
       "max_width": null,
       "min_height": null,
       "min_width": null,
       "object_fit": null,
       "object_position": null,
       "order": null,
       "overflow": null,
       "overflow_x": null,
       "overflow_y": null,
       "padding": null,
       "right": null,
       "top": null,
       "visibility": null,
       "width": null
      }
     },
     "97cd76c457ac4ae6b391205979de9602": {
      "model_module": "@jupyter-widgets/controls",
      "model_module_version": "1.5.0",
      "model_name": "DescriptionStyleModel",
      "state": {
       "_model_module": "@jupyter-widgets/controls",
       "_model_module_version": "1.5.0",
       "_model_name": "DescriptionStyleModel",
       "_view_count": null,
       "_view_module": "@jupyter-widgets/base",
       "_view_module_version": "1.2.0",
       "_view_name": "StyleView",
       "description_width": ""
      }
     },
     "9fe72ee3ceb74cb3b5892856d091dc6d": {
      "model_module": "@jupyter-widgets/controls",
      "model_module_version": "1.5.0",
      "model_name": "HBoxModel",
      "state": {
       "_dom_classes": [],
       "_model_module": "@jupyter-widgets/controls",
       "_model_module_version": "1.5.0",
       "_model_name": "HBoxModel",
       "_view_count": null,
       "_view_module": "@jupyter-widgets/controls",
       "_view_module_version": "1.5.0",
       "_view_name": "HBoxView",
       "box_style": "",
       "children": [
        "IPY_MODEL_e1db6d36a4a54ca3bb13f48caef623d7",
        "IPY_MODEL_568c22765b3b4670ad1f609a197e4ddd"
       ],
       "layout": "IPY_MODEL_8e707a8dbdbd4c9fbd3b47aaf07031e3"
      }
     },
     "ad81288168ff403ea89c596d22dcea8d": {
      "model_module": "@jupyter-widgets/controls",
      "model_module_version": "1.5.0",
      "model_name": "HTMLModel",
      "state": {
       "_dom_classes": [],
       "_model_module": "@jupyter-widgets/controls",
       "_model_module_version": "1.5.0",
       "_model_name": "HTMLModel",
       "_view_count": null,
       "_view_module": "@jupyter-widgets/controls",
       "_view_module_version": "1.5.0",
       "_view_name": "HTMLView",
       "description": "",
       "description_tooltip": null,
       "layout": "IPY_MODEL_bc7d0ef36c6d476e8857a4117b9c29b0",
       "placeholder": "​",
       "style": "IPY_MODEL_97cd76c457ac4ae6b391205979de9602",
       "value": " 8192/? [00:00&lt;00:00, 19267.21it/s]"
      }
     },
     "af8984c0a3b648e3975ee596bef2d263": {
      "model_module": "@jupyter-widgets/base",
      "model_module_version": "1.2.0",
      "model_name": "LayoutModel",
      "state": {
       "_model_module": "@jupyter-widgets/base",
       "_model_module_version": "1.2.0",
       "_model_name": "LayoutModel",
       "_view_count": null,
       "_view_module": "@jupyter-widgets/base",
       "_view_module_version": "1.2.0",
       "_view_name": "LayoutView",
       "align_content": null,
       "align_items": null,
       "align_self": null,
       "border": null,
       "bottom": null,
       "display": null,
       "flex": null,
       "flex_flow": null,
       "grid_area": null,
       "grid_auto_columns": null,
       "grid_auto_flow": null,
       "grid_auto_rows": null,
       "grid_column": null,
       "grid_gap": null,
       "grid_row": null,
       "grid_template_areas": null,
       "grid_template_columns": null,
       "grid_template_rows": null,
       "height": null,
       "justify_content": null,
       "justify_items": null,
       "left": null,
       "margin": null,
       "max_height": null,
       "max_width": null,
       "min_height": null,
       "min_width": null,
       "object_fit": null,
       "object_position": null,
       "order": null,
       "overflow": null,
       "overflow_x": null,
       "overflow_y": null,
       "padding": null,
       "right": null,
       "top": null,
       "visibility": null,
       "width": null
      }
     },
     "bc7d0ef36c6d476e8857a4117b9c29b0": {
      "model_module": "@jupyter-widgets/base",
      "model_module_version": "1.2.0",
      "model_name": "LayoutModel",
      "state": {
       "_model_module": "@jupyter-widgets/base",
       "_model_module_version": "1.2.0",
       "_model_name": "LayoutModel",
       "_view_count": null,
       "_view_module": "@jupyter-widgets/base",
       "_view_module_version": "1.2.0",
       "_view_name": "LayoutView",
       "align_content": null,
       "align_items": null,
       "align_self": null,
       "border": null,
       "bottom": null,
       "display": null,
       "flex": null,
       "flex_flow": null,
       "grid_area": null,
       "grid_auto_columns": null,
       "grid_auto_flow": null,
       "grid_auto_rows": null,
       "grid_column": null,
       "grid_gap": null,
       "grid_row": null,
       "grid_template_areas": null,
       "grid_template_columns": null,
       "grid_template_rows": null,
       "height": null,
       "justify_content": null,
       "justify_items": null,
       "left": null,
       "margin": null,
       "max_height": null,
       "max_width": null,
       "min_height": null,
       "min_width": null,
       "object_fit": null,
       "object_position": null,
       "order": null,
       "overflow": null,
       "overflow_x": null,
       "overflow_y": null,
       "padding": null,
       "right": null,
       "top": null,
       "visibility": null,
       "width": null
      }
     },
     "bf5dbcd034db40bdb88e69a95cf7d17f": {
      "model_module": "@jupyter-widgets/controls",
      "model_module_version": "1.5.0",
      "model_name": "ProgressStyleModel",
      "state": {
       "_model_module": "@jupyter-widgets/controls",
       "_model_module_version": "1.5.0",
       "_model_name": "ProgressStyleModel",
       "_view_count": null,
       "_view_module": "@jupyter-widgets/base",
       "_view_module_version": "1.2.0",
       "_view_name": "StyleView",
       "bar_color": null,
       "description_width": "initial"
      }
     },
     "c4df1aa6f14e4cc9b501b870665685df": {
      "model_module": "@jupyter-widgets/base",
      "model_module_version": "1.2.0",
      "model_name": "LayoutModel",
      "state": {
       "_model_module": "@jupyter-widgets/base",
       "_model_module_version": "1.2.0",
       "_model_name": "LayoutModel",
       "_view_count": null,
       "_view_module": "@jupyter-widgets/base",
       "_view_module_version": "1.2.0",
       "_view_name": "LayoutView",
       "align_content": null,
       "align_items": null,
       "align_self": null,
       "border": null,
       "bottom": null,
       "display": null,
       "flex": null,
       "flex_flow": null,
       "grid_area": null,
       "grid_auto_columns": null,
       "grid_auto_flow": null,
       "grid_auto_rows": null,
       "grid_column": null,
       "grid_gap": null,
       "grid_row": null,
       "grid_template_areas": null,
       "grid_template_columns": null,
       "grid_template_rows": null,
       "height": null,
       "justify_content": null,
       "justify_items": null,
       "left": null,
       "margin": null,
       "max_height": null,
       "max_width": null,
       "min_height": null,
       "min_width": null,
       "object_fit": null,
       "object_position": null,
       "order": null,
       "overflow": null,
       "overflow_x": null,
       "overflow_y": null,
       "padding": null,
       "right": null,
       "top": null,
       "visibility": null,
       "width": null
      }
     },
     "db845ddf64e3408795e13c6f85e00ef9": {
      "model_module": "@jupyter-widgets/controls",
      "model_module_version": "1.5.0",
      "model_name": "DescriptionStyleModel",
      "state": {
       "_model_module": "@jupyter-widgets/controls",
       "_model_module_version": "1.5.0",
       "_model_name": "DescriptionStyleModel",
       "_view_count": null,
       "_view_module": "@jupyter-widgets/base",
       "_view_module_version": "1.2.0",
       "_view_name": "StyleView",
       "description_width": ""
      }
     },
     "dc16fd48447a4efaa4e146c19d3d8d0d": {
      "model_module": "@jupyter-widgets/base",
      "model_module_version": "1.2.0",
      "model_name": "LayoutModel",
      "state": {
       "_model_module": "@jupyter-widgets/base",
       "_model_module_version": "1.2.0",
       "_model_name": "LayoutModel",
       "_view_count": null,
       "_view_module": "@jupyter-widgets/base",
       "_view_module_version": "1.2.0",
       "_view_name": "LayoutView",
       "align_content": null,
       "align_items": null,
       "align_self": null,
       "border": null,
       "bottom": null,
       "display": null,
       "flex": null,
       "flex_flow": null,
       "grid_area": null,
       "grid_auto_columns": null,
       "grid_auto_flow": null,
       "grid_auto_rows": null,
       "grid_column": null,
       "grid_gap": null,
       "grid_row": null,
       "grid_template_areas": null,
       "grid_template_columns": null,
       "grid_template_rows": null,
       "height": null,
       "justify_content": null,
       "justify_items": null,
       "left": null,
       "margin": null,
       "max_height": null,
       "max_width": null,
       "min_height": null,
       "min_width": null,
       "object_fit": null,
       "object_position": null,
       "order": null,
       "overflow": null,
       "overflow_x": null,
       "overflow_y": null,
       "padding": null,
       "right": null,
       "top": null,
       "visibility": null,
       "width": null
      }
     },
     "e1db6d36a4a54ca3bb13f48caef623d7": {
      "model_module": "@jupyter-widgets/controls",
      "model_module_version": "1.5.0",
      "model_name": "FloatProgressModel",
      "state": {
       "_dom_classes": [],
       "_model_module": "@jupyter-widgets/controls",
       "_model_module_version": "1.5.0",
       "_model_name": "FloatProgressModel",
       "_view_count": null,
       "_view_module": "@jupyter-widgets/controls",
       "_view_module_version": "1.5.0",
       "_view_name": "ProgressView",
       "bar_style": "info",
       "description": "",
       "description_tooltip": null,
       "layout": "IPY_MODEL_af8984c0a3b648e3975ee596bef2d263",
       "max": 1,
       "min": 0,
       "orientation": "horizontal",
       "style": "IPY_MODEL_e8f76db90f0d4a83942f6640cab5b3ee",
       "value": 1
      }
     },
     "e8f76db90f0d4a83942f6640cab5b3ee": {
      "model_module": "@jupyter-widgets/controls",
      "model_module_version": "1.5.0",
      "model_name": "ProgressStyleModel",
      "state": {
       "_model_module": "@jupyter-widgets/controls",
       "_model_module_version": "1.5.0",
       "_model_name": "ProgressStyleModel",
       "_view_count": null,
       "_view_module": "@jupyter-widgets/base",
       "_view_module_version": "1.2.0",
       "_view_name": "StyleView",
       "bar_color": null,
       "description_width": "initial"
      }
     },
     "fc318fb5888d4853bc6691c72b13cac5": {
      "model_module": "@jupyter-widgets/controls",
      "model_module_version": "1.5.0",
      "model_name": "HBoxModel",
      "state": {
       "_dom_classes": [],
       "_model_module": "@jupyter-widgets/controls",
       "_model_module_version": "1.5.0",
       "_model_name": "HBoxModel",
       "_view_count": null,
       "_view_module": "@jupyter-widgets/controls",
       "_view_module_version": "1.5.0",
       "_view_name": "HBoxView",
       "box_style": "",
       "children": [
        "IPY_MODEL_53b1f2d022f54df989ad810f4bd33cca",
        "IPY_MODEL_ad81288168ff403ea89c596d22dcea8d"
       ],
       "layout": "IPY_MODEL_4c6e1ff086bf41b9843f3c344f759539"
      }
     },
     "fff70da8dafe4af4a02fa7e03b4d0233": {
      "model_module": "@jupyter-widgets/controls",
      "model_module_version": "1.5.0",
      "model_name": "HBoxModel",
      "state": {
       "_dom_classes": [],
       "_model_module": "@jupyter-widgets/controls",
       "_model_module_version": "1.5.0",
       "_model_name": "HBoxModel",
       "_view_count": null,
       "_view_module": "@jupyter-widgets/controls",
       "_view_module_version": "1.5.0",
       "_view_name": "HBoxView",
       "box_style": "",
       "children": [
        "IPY_MODEL_6402f99964624006bda992f9264f70ee",
        "IPY_MODEL_3c3d46c604734dbdbb4cc7f0dbd97689"
       ],
       "layout": "IPY_MODEL_2c0d1f037c324e6b970fdda52e81a7f8"
      }
     }
    },
    "version_major": 2,
    "version_minor": 0
   }
  }
 },
 "nbformat": 4,
 "nbformat_minor": 4
}
